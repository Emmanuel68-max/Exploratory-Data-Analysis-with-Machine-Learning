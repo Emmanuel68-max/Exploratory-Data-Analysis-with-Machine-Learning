{
 "cells": [
  {
   "cell_type": "markdown",
   "id": "neither-mills",
   "metadata": {},
   "source": [
    "# Exploratory Data Analysis on Real Estate Dataset\n",
    "\n",
    "## Introduction\n",
    "\n",
    "Real Estate price prediction is a dataset originally compiled for regression analysis, linear regression, multiple regression, and predictive tasks. The dataset consists of purchase date, age of property, location, house price of unit area, and distance to nearest station.\n",
    "\n",
    "The dataset is obtained from Kaggle by bruce."
   ]
  },
  {
   "cell_type": "code",
   "execution_count": 2,
   "id": "detailed-laundry",
   "metadata": {},
   "outputs": [],
   "source": [
    "#Loading libraries\n",
    "import numpy as np  #Numerical Python library\n",
    "import pandas as pd #Data Analysis library\n",
    "import matplotlib.pyplot as plt  #Data Visualization library\n",
    "import seaborn as sns #Data Visualization library"
   ]
  },
  {
   "cell_type": "code",
   "execution_count": 3,
   "id": "contemporary-pocket",
   "metadata": {},
   "outputs": [],
   "source": [
    "#Loading dataset\n",
    "df = pd.read_csv(\"Real estate.csv\")"
   ]
  },
  {
   "cell_type": "code",
   "execution_count": 4,
   "id": "continuous-stamp",
   "metadata": {},
   "outputs": [
    {
     "name": "stdout",
     "output_type": "stream",
     "text": [
      "First five rows of dataset\n"
     ]
    },
    {
     "data": {
      "text/html": [
       "<div>\n",
       "<style scoped>\n",
       "    .dataframe tbody tr th:only-of-type {\n",
       "        vertical-align: middle;\n",
       "    }\n",
       "\n",
       "    .dataframe tbody tr th {\n",
       "        vertical-align: top;\n",
       "    }\n",
       "\n",
       "    .dataframe thead th {\n",
       "        text-align: right;\n",
       "    }\n",
       "</style>\n",
       "<table border=\"1\" class=\"dataframe\">\n",
       "  <thead>\n",
       "    <tr style=\"text-align: right;\">\n",
       "      <th></th>\n",
       "      <th>No</th>\n",
       "      <th>X1 transaction date</th>\n",
       "      <th>X2 house age</th>\n",
       "      <th>X3 distance to the nearest MRT station</th>\n",
       "      <th>X4 number of convenience stores</th>\n",
       "      <th>X5 latitude</th>\n",
       "      <th>X6 longitude</th>\n",
       "      <th>Y house price of unit area</th>\n",
       "    </tr>\n",
       "  </thead>\n",
       "  <tbody>\n",
       "    <tr>\n",
       "      <th>0</th>\n",
       "      <td>1</td>\n",
       "      <td>2012.917</td>\n",
       "      <td>32.0</td>\n",
       "      <td>84.87882</td>\n",
       "      <td>10</td>\n",
       "      <td>24.98298</td>\n",
       "      <td>121.54024</td>\n",
       "      <td>37.9</td>\n",
       "    </tr>\n",
       "    <tr>\n",
       "      <th>1</th>\n",
       "      <td>2</td>\n",
       "      <td>2012.917</td>\n",
       "      <td>19.5</td>\n",
       "      <td>306.59470</td>\n",
       "      <td>9</td>\n",
       "      <td>24.98034</td>\n",
       "      <td>121.53951</td>\n",
       "      <td>42.2</td>\n",
       "    </tr>\n",
       "    <tr>\n",
       "      <th>2</th>\n",
       "      <td>3</td>\n",
       "      <td>2013.583</td>\n",
       "      <td>13.3</td>\n",
       "      <td>561.98450</td>\n",
       "      <td>5</td>\n",
       "      <td>24.98746</td>\n",
       "      <td>121.54391</td>\n",
       "      <td>47.3</td>\n",
       "    </tr>\n",
       "    <tr>\n",
       "      <th>3</th>\n",
       "      <td>4</td>\n",
       "      <td>2013.500</td>\n",
       "      <td>13.3</td>\n",
       "      <td>561.98450</td>\n",
       "      <td>5</td>\n",
       "      <td>24.98746</td>\n",
       "      <td>121.54391</td>\n",
       "      <td>54.8</td>\n",
       "    </tr>\n",
       "    <tr>\n",
       "      <th>4</th>\n",
       "      <td>5</td>\n",
       "      <td>2012.833</td>\n",
       "      <td>5.0</td>\n",
       "      <td>390.56840</td>\n",
       "      <td>5</td>\n",
       "      <td>24.97937</td>\n",
       "      <td>121.54245</td>\n",
       "      <td>43.1</td>\n",
       "    </tr>\n",
       "  </tbody>\n",
       "</table>\n",
       "</div>"
      ],
      "text/plain": [
       "   No  X1 transaction date  X2 house age  \\\n",
       "0   1             2012.917          32.0   \n",
       "1   2             2012.917          19.5   \n",
       "2   3             2013.583          13.3   \n",
       "3   4             2013.500          13.3   \n",
       "4   5             2012.833           5.0   \n",
       "\n",
       "   X3 distance to the nearest MRT station  X4 number of convenience stores  \\\n",
       "0                                84.87882                               10   \n",
       "1                               306.59470                                9   \n",
       "2                               561.98450                                5   \n",
       "3                               561.98450                                5   \n",
       "4                               390.56840                                5   \n",
       "\n",
       "   X5 latitude  X6 longitude  Y house price of unit area  \n",
       "0     24.98298     121.54024                        37.9  \n",
       "1     24.98034     121.53951                        42.2  \n",
       "2     24.98746     121.54391                        47.3  \n",
       "3     24.98746     121.54391                        54.8  \n",
       "4     24.97937     121.54245                        43.1  "
      ]
     },
     "execution_count": 4,
     "metadata": {},
     "output_type": "execute_result"
    }
   ],
   "source": [
    "#First five rows of dataset\n",
    "print('First five rows of dataset')\n",
    "df.head(5)"
   ]
  },
  {
   "cell_type": "code",
   "execution_count": 5,
   "id": "robust-teaching",
   "metadata": {},
   "outputs": [
    {
     "name": "stdout",
     "output_type": "stream",
     "text": [
      "There are 414 rows and 8 columns in dataset.\n"
     ]
    }
   ],
   "source": [
    "#Shape\n",
    "print(f'There are {df.shape[0]} rows and {df.shape[1]} columns in dataset.')"
   ]
  },
  {
   "cell_type": "markdown",
   "id": "handmade-potential",
   "metadata": {},
   "source": [
    "## Descriptive statistics\n",
    "\n",
    "Descriptive statistics are those that summarizes the dataset and provide some quick insights."
   ]
  },
  {
   "cell_type": "code",
   "execution_count": 6,
   "id": "moderate-westminster",
   "metadata": {},
   "outputs": [
    {
     "name": "stdout",
     "output_type": "stream",
     "text": [
      "Summary table\n"
     ]
    },
    {
     "data": {
      "text/html": [
       "<div>\n",
       "<style scoped>\n",
       "    .dataframe tbody tr th:only-of-type {\n",
       "        vertical-align: middle;\n",
       "    }\n",
       "\n",
       "    .dataframe tbody tr th {\n",
       "        vertical-align: top;\n",
       "    }\n",
       "\n",
       "    .dataframe thead th {\n",
       "        text-align: right;\n",
       "    }\n",
       "</style>\n",
       "<table border=\"1\" class=\"dataframe\">\n",
       "  <thead>\n",
       "    <tr style=\"text-align: right;\">\n",
       "      <th></th>\n",
       "      <th>No</th>\n",
       "      <th>X1 transaction date</th>\n",
       "      <th>X2 house age</th>\n",
       "      <th>X3 distance to the nearest MRT station</th>\n",
       "      <th>X4 number of convenience stores</th>\n",
       "      <th>X5 latitude</th>\n",
       "      <th>X6 longitude</th>\n",
       "      <th>Y house price of unit area</th>\n",
       "    </tr>\n",
       "  </thead>\n",
       "  <tbody>\n",
       "    <tr>\n",
       "      <th>count</th>\n",
       "      <td>414.000000</td>\n",
       "      <td>414.000000</td>\n",
       "      <td>414.000000</td>\n",
       "      <td>414.000000</td>\n",
       "      <td>414.000000</td>\n",
       "      <td>414.000000</td>\n",
       "      <td>414.000000</td>\n",
       "      <td>414.000000</td>\n",
       "    </tr>\n",
       "    <tr>\n",
       "      <th>mean</th>\n",
       "      <td>207.500000</td>\n",
       "      <td>2013.148971</td>\n",
       "      <td>17.712560</td>\n",
       "      <td>1083.885689</td>\n",
       "      <td>4.094203</td>\n",
       "      <td>24.969030</td>\n",
       "      <td>121.533361</td>\n",
       "      <td>37.980193</td>\n",
       "    </tr>\n",
       "    <tr>\n",
       "      <th>std</th>\n",
       "      <td>119.655756</td>\n",
       "      <td>0.281967</td>\n",
       "      <td>11.392485</td>\n",
       "      <td>1262.109595</td>\n",
       "      <td>2.945562</td>\n",
       "      <td>0.012410</td>\n",
       "      <td>0.015347</td>\n",
       "      <td>13.606488</td>\n",
       "    </tr>\n",
       "    <tr>\n",
       "      <th>min</th>\n",
       "      <td>1.000000</td>\n",
       "      <td>2012.667000</td>\n",
       "      <td>0.000000</td>\n",
       "      <td>23.382840</td>\n",
       "      <td>0.000000</td>\n",
       "      <td>24.932070</td>\n",
       "      <td>121.473530</td>\n",
       "      <td>7.600000</td>\n",
       "    </tr>\n",
       "    <tr>\n",
       "      <th>25%</th>\n",
       "      <td>104.250000</td>\n",
       "      <td>2012.917000</td>\n",
       "      <td>9.025000</td>\n",
       "      <td>289.324800</td>\n",
       "      <td>1.000000</td>\n",
       "      <td>24.963000</td>\n",
       "      <td>121.528085</td>\n",
       "      <td>27.700000</td>\n",
       "    </tr>\n",
       "    <tr>\n",
       "      <th>50%</th>\n",
       "      <td>207.500000</td>\n",
       "      <td>2013.167000</td>\n",
       "      <td>16.100000</td>\n",
       "      <td>492.231300</td>\n",
       "      <td>4.000000</td>\n",
       "      <td>24.971100</td>\n",
       "      <td>121.538630</td>\n",
       "      <td>38.450000</td>\n",
       "    </tr>\n",
       "    <tr>\n",
       "      <th>75%</th>\n",
       "      <td>310.750000</td>\n",
       "      <td>2013.417000</td>\n",
       "      <td>28.150000</td>\n",
       "      <td>1454.279000</td>\n",
       "      <td>6.000000</td>\n",
       "      <td>24.977455</td>\n",
       "      <td>121.543305</td>\n",
       "      <td>46.600000</td>\n",
       "    </tr>\n",
       "    <tr>\n",
       "      <th>max</th>\n",
       "      <td>414.000000</td>\n",
       "      <td>2013.583000</td>\n",
       "      <td>43.800000</td>\n",
       "      <td>6488.021000</td>\n",
       "      <td>10.000000</td>\n",
       "      <td>25.014590</td>\n",
       "      <td>121.566270</td>\n",
       "      <td>117.500000</td>\n",
       "    </tr>\n",
       "  </tbody>\n",
       "</table>\n",
       "</div>"
      ],
      "text/plain": [
       "               No  X1 transaction date  X2 house age  \\\n",
       "count  414.000000           414.000000    414.000000   \n",
       "mean   207.500000          2013.148971     17.712560   \n",
       "std    119.655756             0.281967     11.392485   \n",
       "min      1.000000          2012.667000      0.000000   \n",
       "25%    104.250000          2012.917000      9.025000   \n",
       "50%    207.500000          2013.167000     16.100000   \n",
       "75%    310.750000          2013.417000     28.150000   \n",
       "max    414.000000          2013.583000     43.800000   \n",
       "\n",
       "       X3 distance to the nearest MRT station  \\\n",
       "count                              414.000000   \n",
       "mean                              1083.885689   \n",
       "std                               1262.109595   \n",
       "min                                 23.382840   \n",
       "25%                                289.324800   \n",
       "50%                                492.231300   \n",
       "75%                               1454.279000   \n",
       "max                               6488.021000   \n",
       "\n",
       "       X4 number of convenience stores  X5 latitude  X6 longitude  \\\n",
       "count                       414.000000   414.000000    414.000000   \n",
       "mean                          4.094203    24.969030    121.533361   \n",
       "std                           2.945562     0.012410      0.015347   \n",
       "min                           0.000000    24.932070    121.473530   \n",
       "25%                           1.000000    24.963000    121.528085   \n",
       "50%                           4.000000    24.971100    121.538630   \n",
       "75%                           6.000000    24.977455    121.543305   \n",
       "max                          10.000000    25.014590    121.566270   \n",
       "\n",
       "       Y house price of unit area  \n",
       "count                  414.000000  \n",
       "mean                    37.980193  \n",
       "std                     13.606488  \n",
       "min                      7.600000  \n",
       "25%                     27.700000  \n",
       "50%                     38.450000  \n",
       "75%                     46.600000  \n",
       "max                    117.500000  "
      ]
     },
     "execution_count": 6,
     "metadata": {},
     "output_type": "execute_result"
    }
   ],
   "source": [
    "#Summary\n",
    "\n",
    "print('Summary table')\n",
    "df.describe()"
   ]
  },
  {
   "cell_type": "markdown",
   "id": "threatened-fruit",
   "metadata": {},
   "source": [
    "\n",
    "The mean price of unit area of house is $ 37.98K\n",
    "\n",
    "## Data Cleaning\n",
    "\n",
    "Data Cleaning is the process of converting the raw data into the form which aids in the process of analysis.\n",
    "\n",
    "Data Cleaning methodology is as follows:-\n",
    "\n",
    "1. Changing column names.\n",
    "2. Handling missing values.\n",
    "3. Feature Engineering\n",
    "4. Dropping Irrelevent attributes.\n",
    "5. Dropping Duplicate rows.\n",
    "\n",
    "\n",
    "1. Changing column names\n",
    "In dataset, with each column name some additional information is also associated signifying its role in prediction analytics. In this step of data cleaning column names are changed to appropriate ones."
   ]
  },
  {
   "cell_type": "code",
   "execution_count": 7,
   "id": "martial-plastic",
   "metadata": {},
   "outputs": [
    {
     "data": {
      "text/html": [
       "<div>\n",
       "<style scoped>\n",
       "    .dataframe tbody tr th:only-of-type {\n",
       "        vertical-align: middle;\n",
       "    }\n",
       "\n",
       "    .dataframe tbody tr th {\n",
       "        vertical-align: top;\n",
       "    }\n",
       "\n",
       "    .dataframe thead th {\n",
       "        text-align: right;\n",
       "    }\n",
       "</style>\n",
       "<table border=\"1\" class=\"dataframe\">\n",
       "  <thead>\n",
       "    <tr style=\"text-align: right;\">\n",
       "      <th></th>\n",
       "      <th>No</th>\n",
       "      <th>Transaction date</th>\n",
       "      <th>Age</th>\n",
       "      <th>Distance from nearest MRT station</th>\n",
       "      <th>No. of convenience stores</th>\n",
       "      <th>Latitude</th>\n",
       "      <th>Longitude</th>\n",
       "      <th>Price/Area</th>\n",
       "    </tr>\n",
       "  </thead>\n",
       "  <tbody>\n",
       "    <tr>\n",
       "      <th>0</th>\n",
       "      <td>1</td>\n",
       "      <td>2012.917</td>\n",
       "      <td>32.0</td>\n",
       "      <td>84.87882</td>\n",
       "      <td>10</td>\n",
       "      <td>24.98298</td>\n",
       "      <td>121.54024</td>\n",
       "      <td>37.9</td>\n",
       "    </tr>\n",
       "    <tr>\n",
       "      <th>1</th>\n",
       "      <td>2</td>\n",
       "      <td>2012.917</td>\n",
       "      <td>19.5</td>\n",
       "      <td>306.59470</td>\n",
       "      <td>9</td>\n",
       "      <td>24.98034</td>\n",
       "      <td>121.53951</td>\n",
       "      <td>42.2</td>\n",
       "    </tr>\n",
       "    <tr>\n",
       "      <th>2</th>\n",
       "      <td>3</td>\n",
       "      <td>2013.583</td>\n",
       "      <td>13.3</td>\n",
       "      <td>561.98450</td>\n",
       "      <td>5</td>\n",
       "      <td>24.98746</td>\n",
       "      <td>121.54391</td>\n",
       "      <td>47.3</td>\n",
       "    </tr>\n",
       "    <tr>\n",
       "      <th>3</th>\n",
       "      <td>4</td>\n",
       "      <td>2013.500</td>\n",
       "      <td>13.3</td>\n",
       "      <td>561.98450</td>\n",
       "      <td>5</td>\n",
       "      <td>24.98746</td>\n",
       "      <td>121.54391</td>\n",
       "      <td>54.8</td>\n",
       "    </tr>\n",
       "    <tr>\n",
       "      <th>4</th>\n",
       "      <td>5</td>\n",
       "      <td>2012.833</td>\n",
       "      <td>5.0</td>\n",
       "      <td>390.56840</td>\n",
       "      <td>5</td>\n",
       "      <td>24.97937</td>\n",
       "      <td>121.54245</td>\n",
       "      <td>43.1</td>\n",
       "    </tr>\n",
       "  </tbody>\n",
       "</table>\n",
       "</div>"
      ],
      "text/plain": [
       "   No  Transaction date   Age  Distance from nearest MRT station  \\\n",
       "0   1          2012.917  32.0                           84.87882   \n",
       "1   2          2012.917  19.5                          306.59470   \n",
       "2   3          2013.583  13.3                          561.98450   \n",
       "3   4          2013.500  13.3                          561.98450   \n",
       "4   5          2012.833   5.0                          390.56840   \n",
       "\n",
       "   No. of convenience stores  Latitude  Longitude  Price/Area  \n",
       "0                         10  24.98298  121.54024        37.9  \n",
       "1                          9  24.98034  121.53951        42.2  \n",
       "2                          5  24.98746  121.54391        47.3  \n",
       "3                          5  24.98746  121.54391        54.8  \n",
       "4                          5  24.97937  121.54245        43.1  "
      ]
     },
     "execution_count": 7,
     "metadata": {},
     "output_type": "execute_result"
    }
   ],
   "source": [
    "#Changing column names\n",
    "col = ['No', 'Transaction date', 'Age', 'Distance from nearest MRT station', 'No. of convenience stores', 'Latitude',\\\n",
    "       'Longitude', 'Price/Area']\n",
    "\n",
    "df.columns = col\n",
    "\n",
    "#After cleaning\n",
    "df.head()"
   ]
  },
  {
   "cell_type": "markdown",
   "id": "textile-pendant",
   "metadata": {},
   "source": [
    "2. Handling missing values\n",
    "\n",
    "Looking for missing values in the dataset"
   ]
  },
  {
   "cell_type": "code",
   "execution_count": 8,
   "id": "excessive-lover",
   "metadata": {},
   "outputs": [
    {
     "data": {
      "text/plain": [
       "No                                   0\n",
       "Transaction date                     0\n",
       "Age                                  0\n",
       "Distance from nearest MRT station    0\n",
       "No. of convenience stores            0\n",
       "Latitude                             0\n",
       "Longitude                            0\n",
       "Price/Area                           0\n",
       "dtype: int64"
      ]
     },
     "execution_count": 8,
     "metadata": {},
     "output_type": "execute_result"
    }
   ],
   "source": [
    "df.isnull().sum()"
   ]
  },
  {
   "cell_type": "code",
   "execution_count": 9,
   "id": "electric-making",
   "metadata": {},
   "outputs": [
    {
     "data": {
      "text/plain": [
       "<matplotlib.axes._subplots.AxesSubplot at 0x7ff9efe4cf50>"
      ]
     },
     "execution_count": 9,
     "metadata": {},
     "output_type": "execute_result"
    },
    {
     "data": {
      "image/png": "[encoded data removed]",
      "text/plain": [
       "<Figure size 432x288 with 1 Axes>"
      ]
     },
     "metadata": {
      "needs_background": "light"
     },
     "output_type": "display_data"
    }
   ],
   "source": [
    "df['Age'].hist()"
   ]
  },
  {
   "cell_type": "markdown",
   "id": "interim-leave",
   "metadata": {},
   "source": [
    "There are no missing values in dataset. But there are some observations in which Age is numbered as 0. Since Age of 0 doesn't make sense, we will remove those rows."
   ]
  },
  {
   "cell_type": "code",
   "execution_count": 10,
   "id": "unique-square",
   "metadata": {},
   "outputs": [
    {
     "data": {
      "text/html": [
       "<div>\n",
       "<style scoped>\n",
       "    .dataframe tbody tr th:only-of-type {\n",
       "        vertical-align: middle;\n",
       "    }\n",
       "\n",
       "    .dataframe tbody tr th {\n",
       "        vertical-align: top;\n",
       "    }\n",
       "\n",
       "    .dataframe thead th {\n",
       "        text-align: right;\n",
       "    }\n",
       "</style>\n",
       "<table border=\"1\" class=\"dataframe\">\n",
       "  <thead>\n",
       "    <tr style=\"text-align: right;\">\n",
       "      <th></th>\n",
       "      <th>No</th>\n",
       "      <th>Transaction date</th>\n",
       "      <th>Age</th>\n",
       "      <th>Distance from nearest MRT station</th>\n",
       "      <th>No. of convenience stores</th>\n",
       "      <th>Latitude</th>\n",
       "      <th>Longitude</th>\n",
       "      <th>Price/Area</th>\n",
       "    </tr>\n",
       "  </thead>\n",
       "  <tbody>\n",
       "    <tr>\n",
       "      <th>0</th>\n",
       "      <td>1</td>\n",
       "      <td>2012.917</td>\n",
       "      <td>32.0</td>\n",
       "      <td>84.87882</td>\n",
       "      <td>10</td>\n",
       "      <td>24.98298</td>\n",
       "      <td>121.54024</td>\n",
       "      <td>37.9</td>\n",
       "    </tr>\n",
       "    <tr>\n",
       "      <th>1</th>\n",
       "      <td>2</td>\n",
       "      <td>2012.917</td>\n",
       "      <td>19.5</td>\n",
       "      <td>306.59470</td>\n",
       "      <td>9</td>\n",
       "      <td>24.98034</td>\n",
       "      <td>121.53951</td>\n",
       "      <td>42.2</td>\n",
       "    </tr>\n",
       "    <tr>\n",
       "      <th>2</th>\n",
       "      <td>3</td>\n",
       "      <td>2013.583</td>\n",
       "      <td>13.3</td>\n",
       "      <td>561.98450</td>\n",
       "      <td>5</td>\n",
       "      <td>24.98746</td>\n",
       "      <td>121.54391</td>\n",
       "      <td>47.3</td>\n",
       "    </tr>\n",
       "    <tr>\n",
       "      <th>3</th>\n",
       "      <td>4</td>\n",
       "      <td>2013.500</td>\n",
       "      <td>13.3</td>\n",
       "      <td>561.98450</td>\n",
       "      <td>5</td>\n",
       "      <td>24.98746</td>\n",
       "      <td>121.54391</td>\n",
       "      <td>54.8</td>\n",
       "    </tr>\n",
       "    <tr>\n",
       "      <th>4</th>\n",
       "      <td>5</td>\n",
       "      <td>2012.833</td>\n",
       "      <td>5.0</td>\n",
       "      <td>390.56840</td>\n",
       "      <td>5</td>\n",
       "      <td>24.97937</td>\n",
       "      <td>121.54245</td>\n",
       "      <td>43.1</td>\n",
       "    </tr>\n",
       "  </tbody>\n",
       "</table>\n",
       "</div>"
      ],
      "text/plain": [
       "   No  Transaction date   Age  Distance from nearest MRT station  \\\n",
       "0   1          2012.917  32.0                           84.87882   \n",
       "1   2          2012.917  19.5                          306.59470   \n",
       "2   3          2013.583  13.3                          561.98450   \n",
       "3   4          2013.500  13.3                          561.98450   \n",
       "4   5          2012.833   5.0                          390.56840   \n",
       "\n",
       "   No. of convenience stores  Latitude  Longitude  Price/Area  \n",
       "0                         10  24.98298  121.54024        37.9  \n",
       "1                          9  24.98034  121.53951        42.2  \n",
       "2                          5  24.98746  121.54391        47.3  \n",
       "3                          5  24.98746  121.54391        54.8  \n",
       "4                          5  24.97937  121.54245        43.1  "
      ]
     },
     "execution_count": 10,
     "metadata": {},
     "output_type": "execute_result"
    }
   ],
   "source": [
    "df_new = df[df['Age'] != 0].reset_index()\n",
    "df_new.drop('index', axis = 1, inplace = True)\n",
    "df_new.head()"
   ]
  },
  {
   "cell_type": "markdown",
   "id": "moved-expert",
   "metadata": {},
   "source": [
    "3. Feature Engineering\n",
    "\n",
    "Adding new feature Year in dataset"
   ]
  },
  {
   "cell_type": "code",
   "execution_count": 11,
   "id": "unlike-invasion",
   "metadata": {},
   "outputs": [],
   "source": [
    "df_new['Year'] = df_new['Transaction date'].map(str).apply(lambda x : x.split('.')).apply(lambda x : x[0]).map(int)"
   ]
  },
  {
   "cell_type": "code",
   "execution_count": 12,
   "id": "cordless-millennium",
   "metadata": {},
   "outputs": [
    {
     "data": {
      "text/html": [
       "<div>\n",
       "<style scoped>\n",
       "    .dataframe tbody tr th:only-of-type {\n",
       "        vertical-align: middle;\n",
       "    }\n",
       "\n",
       "    .dataframe tbody tr th {\n",
       "        vertical-align: top;\n",
       "    }\n",
       "\n",
       "    .dataframe thead th {\n",
       "        text-align: right;\n",
       "    }\n",
       "</style>\n",
       "<table border=\"1\" class=\"dataframe\">\n",
       "  <thead>\n",
       "    <tr style=\"text-align: right;\">\n",
       "      <th></th>\n",
       "      <th>No</th>\n",
       "      <th>Transaction date</th>\n",
       "      <th>Age</th>\n",
       "      <th>Distance from nearest MRT station</th>\n",
       "      <th>No. of convenience stores</th>\n",
       "      <th>Latitude</th>\n",
       "      <th>Longitude</th>\n",
       "      <th>Price/Area</th>\n",
       "    </tr>\n",
       "  </thead>\n",
       "  <tbody>\n",
       "    <tr>\n",
       "      <th>0</th>\n",
       "      <td>1</td>\n",
       "      <td>2012.917</td>\n",
       "      <td>32.0</td>\n",
       "      <td>84.87882</td>\n",
       "      <td>10</td>\n",
       "      <td>24.98298</td>\n",
       "      <td>121.54024</td>\n",
       "      <td>37.9</td>\n",
       "    </tr>\n",
       "    <tr>\n",
       "      <th>1</th>\n",
       "      <td>2</td>\n",
       "      <td>2012.917</td>\n",
       "      <td>19.5</td>\n",
       "      <td>306.59470</td>\n",
       "      <td>9</td>\n",
       "      <td>24.98034</td>\n",
       "      <td>121.53951</td>\n",
       "      <td>42.2</td>\n",
       "    </tr>\n",
       "    <tr>\n",
       "      <th>2</th>\n",
       "      <td>3</td>\n",
       "      <td>2013.583</td>\n",
       "      <td>13.3</td>\n",
       "      <td>561.98450</td>\n",
       "      <td>5</td>\n",
       "      <td>24.98746</td>\n",
       "      <td>121.54391</td>\n",
       "      <td>47.3</td>\n",
       "    </tr>\n",
       "    <tr>\n",
       "      <th>3</th>\n",
       "      <td>4</td>\n",
       "      <td>2013.500</td>\n",
       "      <td>13.3</td>\n",
       "      <td>561.98450</td>\n",
       "      <td>5</td>\n",
       "      <td>24.98746</td>\n",
       "      <td>121.54391</td>\n",
       "      <td>54.8</td>\n",
       "    </tr>\n",
       "    <tr>\n",
       "      <th>4</th>\n",
       "      <td>5</td>\n",
       "      <td>2012.833</td>\n",
       "      <td>5.0</td>\n",
       "      <td>390.56840</td>\n",
       "      <td>5</td>\n",
       "      <td>24.97937</td>\n",
       "      <td>121.54245</td>\n",
       "      <td>43.1</td>\n",
       "    </tr>\n",
       "  </tbody>\n",
       "</table>\n",
       "</div>"
      ],
      "text/plain": [
       "   No  Transaction date   Age  Distance from nearest MRT station  \\\n",
       "0   1          2012.917  32.0                           84.87882   \n",
       "1   2          2012.917  19.5                          306.59470   \n",
       "2   3          2013.583  13.3                          561.98450   \n",
       "3   4          2013.500  13.3                          561.98450   \n",
       "4   5          2012.833   5.0                          390.56840   \n",
       "\n",
       "   No. of convenience stores  Latitude  Longitude  Price/Area  \n",
       "0                         10  24.98298  121.54024        37.9  \n",
       "1                          9  24.98034  121.53951        42.2  \n",
       "2                          5  24.98746  121.54391        47.3  \n",
       "3                          5  24.98746  121.54391        54.8  \n",
       "4                          5  24.97937  121.54245        43.1  "
      ]
     },
     "execution_count": 12,
     "metadata": {},
     "output_type": "execute_result"
    }
   ],
   "source": [
    "df.head()"
   ]
  },
  {
   "cell_type": "markdown",
   "id": "possible-alignment",
   "metadata": {},
   "source": [
    "4. Dropping irrelevent attributes\n",
    "\n",
    "Dropping irrelevent features like 'No' and 'Transaction date' which do not help in analysis."
   ]
  },
  {
   "cell_type": "code",
   "execution_count": 13,
   "id": "analyzed-engineering",
   "metadata": {},
   "outputs": [],
   "source": [
    "df_new.drop(['No','Transaction date'], axis = 1, inplace = True)"
   ]
  },
  {
   "cell_type": "code",
   "execution_count": 14,
   "id": "macro-packet",
   "metadata": {},
   "outputs": [
    {
     "data": {
      "text/html": [
       "<div>\n",
       "<style scoped>\n",
       "    .dataframe tbody tr th:only-of-type {\n",
       "        vertical-align: middle;\n",
       "    }\n",
       "\n",
       "    .dataframe tbody tr th {\n",
       "        vertical-align: top;\n",
       "    }\n",
       "\n",
       "    .dataframe thead th {\n",
       "        text-align: right;\n",
       "    }\n",
       "</style>\n",
       "<table border=\"1\" class=\"dataframe\">\n",
       "  <thead>\n",
       "    <tr style=\"text-align: right;\">\n",
       "      <th></th>\n",
       "      <th>Age</th>\n",
       "      <th>Distance from nearest MRT station</th>\n",
       "      <th>No. of convenience stores</th>\n",
       "      <th>Latitude</th>\n",
       "      <th>Longitude</th>\n",
       "      <th>Price/Area</th>\n",
       "      <th>Year</th>\n",
       "    </tr>\n",
       "  </thead>\n",
       "  <tbody>\n",
       "    <tr>\n",
       "      <th>0</th>\n",
       "      <td>32.0</td>\n",
       "      <td>84.87882</td>\n",
       "      <td>10</td>\n",
       "      <td>24.98298</td>\n",
       "      <td>121.54024</td>\n",
       "      <td>37.9</td>\n",
       "      <td>2012</td>\n",
       "    </tr>\n",
       "    <tr>\n",
       "      <th>1</th>\n",
       "      <td>19.5</td>\n",
       "      <td>306.59470</td>\n",
       "      <td>9</td>\n",
       "      <td>24.98034</td>\n",
       "      <td>121.53951</td>\n",
       "      <td>42.2</td>\n",
       "      <td>2012</td>\n",
       "    </tr>\n",
       "    <tr>\n",
       "      <th>2</th>\n",
       "      <td>13.3</td>\n",
       "      <td>561.98450</td>\n",
       "      <td>5</td>\n",
       "      <td>24.98746</td>\n",
       "      <td>121.54391</td>\n",
       "      <td>47.3</td>\n",
       "      <td>2013</td>\n",
       "    </tr>\n",
       "    <tr>\n",
       "      <th>3</th>\n",
       "      <td>13.3</td>\n",
       "      <td>561.98450</td>\n",
       "      <td>5</td>\n",
       "      <td>24.98746</td>\n",
       "      <td>121.54391</td>\n",
       "      <td>54.8</td>\n",
       "      <td>2013</td>\n",
       "    </tr>\n",
       "    <tr>\n",
       "      <th>4</th>\n",
       "      <td>5.0</td>\n",
       "      <td>390.56840</td>\n",
       "      <td>5</td>\n",
       "      <td>24.97937</td>\n",
       "      <td>121.54245</td>\n",
       "      <td>43.1</td>\n",
       "      <td>2012</td>\n",
       "    </tr>\n",
       "  </tbody>\n",
       "</table>\n",
       "</div>"
      ],
      "text/plain": [
       "    Age  Distance from nearest MRT station  No. of convenience stores  \\\n",
       "0  32.0                           84.87882                         10   \n",
       "1  19.5                          306.59470                          9   \n",
       "2  13.3                          561.98450                          5   \n",
       "3  13.3                          561.98450                          5   \n",
       "4   5.0                          390.56840                          5   \n",
       "\n",
       "   Latitude  Longitude  Price/Area  Year  \n",
       "0  24.98298  121.54024        37.9  2012  \n",
       "1  24.98034  121.53951        42.2  2012  \n",
       "2  24.98746  121.54391        47.3  2013  \n",
       "3  24.98746  121.54391        54.8  2013  \n",
       "4  24.97937  121.54245        43.1  2012  "
      ]
     },
     "execution_count": 14,
     "metadata": {},
     "output_type": "execute_result"
    }
   ],
   "source": [
    "#New dataset\n",
    "df_new.head()"
   ]
  },
  {
   "cell_type": "markdown",
   "id": "considerable-asbestos",
   "metadata": {},
   "source": [
    "5. Dropping Duplicate rows\n",
    "\n",
    "Removing duplicate rows from dataset which have same Age, Distance from nearest MRT station, No. of convenience stores and Year."
   ]
  },
  {
   "cell_type": "code",
   "execution_count": 15,
   "id": "inside-compromise",
   "metadata": {},
   "outputs": [],
   "source": [
    "df_new = df_new[df_new.duplicated(['Age', 'Distance from nearest MRT station', 'No. of convenience stores',\\\n",
    "                                   'Year']) == False]"
   ]
  },
  {
   "cell_type": "code",
   "execution_count": 16,
   "id": "addressed-issue",
   "metadata": {},
   "outputs": [],
   "source": [
    "df_new = df_new.reset_index(drop = True)"
   ]
  },
  {
   "cell_type": "code",
   "execution_count": 17,
   "id": "viral-david",
   "metadata": {},
   "outputs": [
    {
     "name": "stdout",
     "output_type": "stream",
     "text": [
      "After removing duplicate rows there are 364 rows and 7 columns in dataset\n"
     ]
    }
   ],
   "source": [
    "print(f'After removing duplicate rows there are {df_new.shape[0]} rows and {df_new.shape[1]} columns in dataset')"
   ]
  },
  {
   "cell_type": "markdown",
   "id": "mineral-court",
   "metadata": {},
   "source": [
    "## Exploratory Data Analysis"
   ]
  },
  {
   "cell_type": "code",
   "execution_count": 18,
   "id": "specified-effects",
   "metadata": {},
   "outputs": [
    {
     "name": "stdout",
     "output_type": "stream",
     "text": [
      "First five rows of dataset\n"
     ]
    },
    {
     "data": {
      "text/html": [
       "<div>\n",
       "<style scoped>\n",
       "    .dataframe tbody tr th:only-of-type {\n",
       "        vertical-align: middle;\n",
       "    }\n",
       "\n",
       "    .dataframe tbody tr th {\n",
       "        vertical-align: top;\n",
       "    }\n",
       "\n",
       "    .dataframe thead th {\n",
       "        text-align: right;\n",
       "    }\n",
       "</style>\n",
       "<table border=\"1\" class=\"dataframe\">\n",
       "  <thead>\n",
       "    <tr style=\"text-align: right;\">\n",
       "      <th></th>\n",
       "      <th>Age</th>\n",
       "      <th>Distance from nearest MRT station</th>\n",
       "      <th>No. of convenience stores</th>\n",
       "      <th>Latitude</th>\n",
       "      <th>Longitude</th>\n",
       "      <th>Price/Area</th>\n",
       "      <th>Year</th>\n",
       "    </tr>\n",
       "  </thead>\n",
       "  <tbody>\n",
       "    <tr>\n",
       "      <th>0</th>\n",
       "      <td>32.0</td>\n",
       "      <td>84.87882</td>\n",
       "      <td>10</td>\n",
       "      <td>24.98298</td>\n",
       "      <td>121.54024</td>\n",
       "      <td>37.9</td>\n",
       "      <td>2012</td>\n",
       "    </tr>\n",
       "    <tr>\n",
       "      <th>1</th>\n",
       "      <td>19.5</td>\n",
       "      <td>306.59470</td>\n",
       "      <td>9</td>\n",
       "      <td>24.98034</td>\n",
       "      <td>121.53951</td>\n",
       "      <td>42.2</td>\n",
       "      <td>2012</td>\n",
       "    </tr>\n",
       "    <tr>\n",
       "      <th>2</th>\n",
       "      <td>13.3</td>\n",
       "      <td>561.98450</td>\n",
       "      <td>5</td>\n",
       "      <td>24.98746</td>\n",
       "      <td>121.54391</td>\n",
       "      <td>47.3</td>\n",
       "      <td>2013</td>\n",
       "    </tr>\n",
       "    <tr>\n",
       "      <th>3</th>\n",
       "      <td>5.0</td>\n",
       "      <td>390.56840</td>\n",
       "      <td>5</td>\n",
       "      <td>24.97937</td>\n",
       "      <td>121.54245</td>\n",
       "      <td>43.1</td>\n",
       "      <td>2012</td>\n",
       "    </tr>\n",
       "    <tr>\n",
       "      <th>4</th>\n",
       "      <td>7.1</td>\n",
       "      <td>2175.03000</td>\n",
       "      <td>3</td>\n",
       "      <td>24.96305</td>\n",
       "      <td>121.51254</td>\n",
       "      <td>32.1</td>\n",
       "      <td>2012</td>\n",
       "    </tr>\n",
       "  </tbody>\n",
       "</table>\n",
       "</div>"
      ],
      "text/plain": [
       "    Age  Distance from nearest MRT station  No. of convenience stores  \\\n",
       "0  32.0                           84.87882                         10   \n",
       "1  19.5                          306.59470                          9   \n",
       "2  13.3                          561.98450                          5   \n",
       "3   5.0                          390.56840                          5   \n",
       "4   7.1                         2175.03000                          3   \n",
       "\n",
       "   Latitude  Longitude  Price/Area  Year  \n",
       "0  24.98298  121.54024        37.9  2012  \n",
       "1  24.98034  121.53951        42.2  2012  \n",
       "2  24.98746  121.54391        47.3  2013  \n",
       "3  24.97937  121.54245        43.1  2012  \n",
       "4  24.96305  121.51254        32.1  2012  "
      ]
     },
     "execution_count": 18,
     "metadata": {},
     "output_type": "execute_result"
    }
   ],
   "source": [
    "#First five rows of datset\n",
    "print('First five rows of dataset')\n",
    "df_new.head()"
   ]
  },
  {
   "cell_type": "code",
   "execution_count": 19,
   "id": "welcome-compression",
   "metadata": {},
   "outputs": [
    {
     "name": "stdout",
     "output_type": "stream",
     "text": [
      "Distribution of features\n"
     ]
    },
    {
     "name": "stderr",
     "output_type": "stream",
     "text": [
      "/srv/conda/envs/notebook/lib/python3.7/site-packages/seaborn/distributions.py:2557: FutureWarning: `distplot` is a deprecated function and will be removed in a future version. Please adapt your code to use either `displot` (a figure-level function with similar flexibility) or `histplot` (an axes-level function for histograms).\n",
      "  warnings.warn(msg, FutureWarning)\n",
      "/srv/conda/envs/notebook/lib/python3.7/site-packages/seaborn/distributions.py:2557: FutureWarning: `distplot` is a deprecated function and will be removed in a future version. Please adapt your code to use either `displot` (a figure-level function with similar flexibility) or `histplot` (an axes-level function for histograms).\n",
      "  warnings.warn(msg, FutureWarning)\n",
      "/srv/conda/envs/notebook/lib/python3.7/site-packages/seaborn/distributions.py:2557: FutureWarning: `distplot` is a deprecated function and will be removed in a future version. Please adapt your code to use either `displot` (a figure-level function with similar flexibility) or `histplot` (an axes-level function for histograms).\n",
      "  warnings.warn(msg, FutureWarning)\n",
      "/srv/conda/envs/notebook/lib/python3.7/site-packages/seaborn/distributions.py:2557: FutureWarning: `distplot` is a deprecated function and will be removed in a future version. Please adapt your code to use either `displot` (a figure-level function with similar flexibility) or `histplot` (an axes-level function for histograms).\n",
      "  warnings.warn(msg, FutureWarning)\n"
     ]
    },
    {
     "data": {
      "text/plain": [
       "Text(0.5, 0.98, 'Distribution of Features')"
      ]
     },
     "execution_count": 19,
     "metadata": {},
     "output_type": "execute_result"
    },
    {
     "data": {
      "image/png": "[encoded data removed]",
      "text/plain": [
       "<Figure size 1080x720 with 4 Axes>"
      ]
     },
     "metadata": {
      "needs_background": "light"
     },
     "output_type": "display_data"
    }
   ],
   "source": [
    "print('Distribution of features')\n",
    "#Distribution plot of features\n",
    "fig, axes = plt.subplots(2, 2, figsize = (15, 10))\n",
    "\n",
    "ax = sns.distplot(df['Age'], ax = axes[0][0], color = 'red')\n",
    "ax.set_xlabel('Age')\n",
    "\n",
    "ax = sns.distplot(df['Distance from nearest MRT station'], ax = axes[0][1], color = 'red')\n",
    "ax.set_xlabel('Distance from nearest MRT station')\n",
    "\n",
    "ax = sns.distplot(df['No. of convenience stores'], ax = axes[1][0], color = 'red')\n",
    "ax.set_xlabel('No. of convenience stores')\n",
    "\n",
    "ax = sns.distplot(df['Price/Area'], ax = axes[1][1], color = 'red')\n",
    "ax.set_xlabel('Price/Area')\n",
    "\n",
    "plt.suptitle('Distribution of Features')"
   ]
  },
  {
   "cell_type": "markdown",
   "id": "mineral-night",
   "metadata": {},
   "source": [
    "\n",
    "The distribution of age shows that in dataset the observations having Age between 20 to 30 is quite less. The distribution of Distance from nearest MRT station is skewed. The distribution of No. of convenient stores and Price / Area is quite normal."
   ]
  },
  {
   "cell_type": "code",
   "execution_count": 20,
   "id": "favorite-workshop",
   "metadata": {},
   "outputs": [
    {
     "name": "stdout",
     "output_type": "stream",
     "text": [
      "Average price of unit Area for houses\n"
     ]
    },
    {
     "data": {
      "text/plain": [
       "<matplotlib.legend.Legend at 0x7ff9e7a71510>"
      ]
     },
     "execution_count": 20,
     "metadata": {},
     "output_type": "execute_result"
    },
    {
     "data": {
      "image/png": "[encoded data removed]",
      "text/plain": [
       "<Figure size 576x360 with 1 Axes>"
      ]
     },
     "metadata": {
      "needs_background": "light"
     },
     "output_type": "display_data"
    }
   ],
   "source": [
    "print('Average price of unit Area for houses')\n",
    "\n",
    "df_bar = df_new[['Price/Area', 'Year']].groupby('Year').mean()\n",
    "df_bar.plot(kind = 'bar', figsize = (8, 5))\n",
    "plt.title('Average Price/Area for houses')\n",
    "plt.legend([])"
   ]
  },
  {
   "cell_type": "markdown",
   "id": "incoming-satellite",
   "metadata": {},
   "source": [
    "The above plot shows that the average price of unit area of the property has got increased in year 2013 from year 2012."
   ]
  },
  {
   "cell_type": "code",
   "execution_count": 21,
   "id": "grateful-northeast",
   "metadata": {},
   "outputs": [],
   "source": [
    "#Grouping dataframe by Latitude, longitude and Year\n",
    "df_l = df_new[['Latitude', 'Longitude', 'Price/Area', 'Year']].groupby(['Latitude', 'Longitude', 'Year']).mean()\n",
    "df_l.reset_index(inplace = True)"
   ]
  },
  {
   "cell_type": "code",
   "execution_count": 23,
   "id": "following-south",
   "metadata": {},
   "outputs": [
    {
     "name": "stdout",
     "output_type": "stream",
     "text": [
      "Top 5 Positions having largest Price/Area in year 2012\n",
      "   Latitude  Longitude  Year  Price/Area\n",
      "0  24.95836  121.53756  2012        57.8\n",
      "1  24.97528  121.54541  2012        57.4\n",
      "2  24.98085  121.54391  2012        56.2\n",
      "3  24.98419  121.54243  2012        55.1\n",
      "4  24.98343  121.53762  2012        54.4\n",
      "\n",
      "Top 5 Positions having largest Price/Area in year 2013\n",
      "   Latitude  Longitude  Year  Price/Area\n",
      "0  24.97460  121.53046  2013       117.5\n",
      "1  24.97703  121.54265  2013        78.3\n",
      "2  24.97071  121.54069  2013        78.0\n",
      "3  24.96756  121.54230  2013        67.7\n",
      "4  24.97345  121.54093  2013        63.3\n"
     ]
    }
   ],
   "source": [
    "\n",
    "#Top 5 Positions in 2012 having largest Price/Area\n",
    "\n",
    "print(\"Top 5 Positions having largest Price/Area in year 2012\")\n",
    "print(df_l[df_l['Year'] == 2012].sort_values(by = 'Price/Area', ascending = False).head().reset_index(drop = True))\n",
    "\n",
    "print()\n",
    "\n",
    "#Top 5 Positions in 2013 having largest Price/Area\n",
    "\n",
    "print(\"Top 5 Positions having largest Price/Area in year 2013\")\n",
    "print(df_l[df_l['Year'] == 2013].sort_values(by = 'Price/Area', ascending = False).head().reset_index(drop = True))"
   ]
  },
  {
   "cell_type": "markdown",
   "id": "aboriginal-anniversary",
   "metadata": {},
   "source": [
    "Both years do not intersect at any Location. In 2012 Location having Latitude and Longitude (24.95836, 121.53756) is having highest Price/Area. In 2013 Location having Latitude and Longitude (24.97460, 121.53046) is having highest Price/Area"
   ]
  },
  {
   "cell_type": "code",
   "execution_count": 23,
   "id": "subtle-spending",
   "metadata": {},
   "outputs": [
    {
     "name": "stdout",
     "output_type": "stream",
     "text": [
      "Bottom 5 Positions having smallest Price/Area in year 2012\n",
      "   Latitude  Longitude  Year  Price/Area\n",
      "0  24.94297  121.50342  2012        15.0\n",
      "1  24.94235  121.50357  2012        14.7\n",
      "2  24.94960  121.53018  2012        13.8\n",
      "3  24.94968  121.53009  2012        13.7\n",
      "4  24.94925  121.49542  2012        13.2\n",
      "\n",
      "Bottom 5 Positions having smallest Price/Area in year 2013\n",
      "   Latitude  Longitude  Year  Price/Area\n",
      "0  24.93885  121.50383  2013        13.0\n",
      "1  24.94935  121.53046  2013        12.8\n",
      "2  24.94375  121.47883  2013        12.2\n",
      "3  24.95719  121.47353  2013        11.2\n",
      "4  24.96172  121.53812  2013         7.6\n"
     ]
    }
   ],
   "source": [
    "#Bottom 5 Positions in 2012 having smallest Price/Area\n",
    "\n",
    "print(\"Bottom 5 Positions having smallest Price/Area in year 2012\")\n",
    "print(df_l[df_l['Year'] == 2012].sort_values(by = 'Price/Area', ascending = False).tail().reset_index(drop = True))\n",
    "\n",
    "print()\n",
    "\n",
    "#Top 5 Positions in 2013 having largest Price/Area\n",
    "\n",
    "print(\"Bottom 5 Positions having smallest Price/Area in year 2013\")\n",
    "print(df_l[df_l['Year'] == 2013].sort_values(by = 'Price/Area', ascending = False).tail().reset_index(drop = True))"
   ]
  },
  {
   "cell_type": "markdown",
   "id": "earlier-christian",
   "metadata": {},
   "source": [
    "\n",
    "Both years do not intersect at any Location. In 2012 Location having Latitude and Longitude (24.94925, 121.49542) is having smallest Price/Area. In 2013 Location having Latitude and Longitude (24.96172, 121.53812) is having smallest Price/Area"
   ]
  },
  {
   "cell_type": "markdown",
   "id": "still-fifteen",
   "metadata": {},
   "source": [
    "### Relationship between Distance from nearest MRT station and Average Price/Area\n",
    "\n",
    "Creating new feature Range that represents the distance of nearest MRT station in steps of 100."
   ]
  },
  {
   "cell_type": "code",
   "execution_count": 24,
   "id": "potential-mailing",
   "metadata": {},
   "outputs": [],
   "source": [
    "#Range represents the range in 100m within which property has nearest MRT station\n",
    "df_new['Range'] = ((df_new['Distance from nearest MRT station'] + 50)/100).round() * 100"
   ]
  },
  {
   "cell_type": "code",
   "execution_count": 25,
   "id": "honey-synthesis",
   "metadata": {},
   "outputs": [
    {
     "data": {
      "text/plain": [
       "Text(0.5, 1.0, 'Distribution of Price according to range(metres)')"
      ]
     },
     "execution_count": 25,
     "metadata": {},
     "output_type": "execute_result"
    },
    {
     "data": {
      "image/png": "[encoded data removed]",
      "text/plain": [
       "<Figure size 1440x504 with 1 Axes>"
      ]
     },
     "metadata": {
      "needs_background": "light"
     },
     "output_type": "display_data"
    }
   ],
   "source": [
    "#Grouping observations according to range and finding mean Price/Area\n",
    "df_m = df_new[['Range', 'Price/Area']].groupby('Range').mean()\n",
    "\n",
    "#Plotting bar graph\n",
    "df_m.plot(kind = 'bar', figsize =(20,7))\n",
    "plt.title('Distribution of Price according to range(metres)')"
   ]
  },
  {
   "cell_type": "markdown",
   "id": "broadband-resistance",
   "metadata": {},
   "source": [
    "\n",
    "From the above plot it can be inferred that with every 100m increase in distance to nearest MRT station Price/Value decreases. But there are also some special cases where average Price/Value is also large for larger distance like for 3100m to 4100m."
   ]
  },
  {
   "cell_type": "code",
   "execution_count": 26,
   "id": "nearby-screen",
   "metadata": {},
   "outputs": [
    {
     "data": {
      "text/plain": [
       "Text(0.5, 1.0, 'Regression Plot between Range(meters) and Price/Area')"
      ]
     },
     "execution_count": 26,
     "metadata": {},
     "output_type": "execute_result"
    },
    {
     "data": {
      "image/png": "[encoded data removed]",
      "text/plain": [
       "<Figure size 720x576 with 1 Axes>"
      ]
     },
     "metadata": {
      "needs_background": "light"
     },
     "output_type": "display_data"
    }
   ],
   "source": [
    "#Plotting regression plot\n",
    "plt.figure(figsize = (10, 8))\n",
    "sns.regplot(x = 'Range',y = 'Price/Area', data = df_new)\n",
    "plt.title('Regression Plot between Range(meters) and Price/Area')"
   ]
  },
  {
   "cell_type": "markdown",
   "id": "premier-thursday",
   "metadata": {},
   "source": [
    "The plot shows that there is the negative relationship between Range and Price per unit area.\n",
    "\n",
    "### Null Hypothesis: There is no relationship between Range(meters) and Price/Area\n",
    "### Alternative Hypothesis: There is relationship between Range(meters) and Price/Area"
   ]
  },
  {
   "cell_type": "code",
   "execution_count": 27,
   "id": "looking-greece",
   "metadata": {},
   "outputs": [
    {
     "name": "stdout",
     "output_type": "stream",
     "text": [
      "Pearson Coefficient is -0.6659938696879494 and p-value is 5.245294476786513e-48\n"
     ]
    }
   ],
   "source": [
    "#Doing significance testing using corelation\n",
    "from scipy.stats import pearsonr\n",
    "\n",
    "Pearson_coeff, P_value = pearsonr(df_new['Range'],df_new['Price/Area'])\n",
    "\n",
    "print(f'Pearson Coefficient is {Pearson_coeff} and p-value is {P_value}')"
   ]
  },
  {
   "cell_type": "markdown",
   "id": "swedish-provision",
   "metadata": {},
   "source": [
    "Since the p-value is smaller than 0.005 there is strong certainity in the result that there is negative relationship between Range(meters) and Price/Area. So we reject the null hypothesis in support of alternative hypothesis."
   ]
  },
  {
   "cell_type": "markdown",
   "id": "fixed-transfer",
   "metadata": {},
   "source": [
    "## Relationship between Age and Price/Area"
   ]
  },
  {
   "cell_type": "code",
   "execution_count": 28,
   "id": "legendary-sierra",
   "metadata": {},
   "outputs": [
    {
     "data": {
      "text/plain": [
       "Text(0.5, 1.0, 'Regression Plot between Age and Price/Area')"
      ]
     },
     "execution_count": 28,
     "metadata": {},
     "output_type": "execute_result"
    },
    {
     "data": {
      "image/png": "[encoded data removed]",
      "text/plain": [
       "<Figure size 720x576 with 1 Axes>"
      ]
     },
     "metadata": {
      "needs_background": "light"
     },
     "output_type": "display_data"
    }
   ],
   "source": [
    "#Plotting regression plot\n",
    "plt.figure(figsize = (10, 8))\n",
    "sns.regplot(x = 'Age',y = 'Price/Area', data = df_new)\n",
    "plt.title('Regression Plot between Age and Price/Area')"
   ]
  },
  {
   "cell_type": "markdown",
   "id": "related-essex",
   "metadata": {},
   "source": [
    "From the above plot, it looks like there is very weak relationship between Age and Price/Area.\n",
    "\n",
    "### Null Hypothesis: There is no relationship between Age and Price/Area\n",
    "### Alternative Hypothesis: There is relationship between Age and Price/Area"
   ]
  },
  {
   "cell_type": "code",
   "execution_count": 29,
   "id": "popular-saturday",
   "metadata": {},
   "outputs": [
    {
     "name": "stdout",
     "output_type": "stream",
     "text": [
      "Pearson Coefficient is -0.11688301554897952 and p-value is 0.025749810593406287\n"
     ]
    }
   ],
   "source": [
    "#Doing significance testing using corelation\n",
    "Pearson_coeff, P_value = pearsonr(df_new['Age'],df_new['Price/Area'])\n",
    "\n",
    "print(f'Pearson Coefficient is {Pearson_coeff} and p-value is {P_value}')"
   ]
  },
  {
   "cell_type": "markdown",
   "id": "representative-preliminary",
   "metadata": {},
   "source": [
    "Since the p-value is greater than 0.05 we reject the null hypothesis. There is weak negative relationship between Age and Price/Area.\n",
    "\n",
    "### Relationship between No. of Convenient Stores and Price/Area"
   ]
  },
  {
   "cell_type": "code",
   "execution_count": 30,
   "id": "bored-semiconductor",
   "metadata": {},
   "outputs": [
    {
     "data": {
      "text/plain": [
       "Text(0.5, 1.0, 'Regression Plot between No. of convenience stores and Price/Area')"
      ]
     },
     "execution_count": 30,
     "metadata": {},
     "output_type": "execute_result"
    },
    {
     "data": {
      "image/png": "[encoded data removed]",
      "text/plain": [
       "<Figure size 720x576 with 1 Axes>"
      ]
     },
     "metadata": {
      "needs_background": "light"
     },
     "output_type": "display_data"
    }
   ],
   "source": [
    "#Plotting regression plot\n",
    "plt.figure(figsize = (10, 8))\n",
    "sns.regplot(x = 'No. of convenience stores',y = 'Price/Area', data = df_new)\n",
    "plt.title('Regression Plot between No. of convenience stores and Price/Area')"
   ]
  },
  {
   "cell_type": "markdown",
   "id": "numerical-return",
   "metadata": {},
   "source": [
    "The above plot indicates that as the no. of convenient stores increases, Price/Area increases. This plot also shows one location which has highest Price/Area and having only one convenient store near it. So, it is a outlier."
   ]
  },
  {
   "cell_type": "code",
   "execution_count": 31,
   "id": "corporate-california",
   "metadata": {},
   "outputs": [],
   "source": [
    "#Code for removing outlier\n",
    "df_new = df_new[df_new['Price/Area'] != df_new['Price/Area'].max()]"
   ]
  },
  {
   "cell_type": "code",
   "execution_count": 32,
   "id": "acquired-limitation",
   "metadata": {},
   "outputs": [
    {
     "data": {
      "text/plain": [
       "Text(0.5, 1.0, 'Regression Plot between No. of convenience stores and Price/Area(Without outlier)')"
      ]
     },
     "execution_count": 32,
     "metadata": {},
     "output_type": "execute_result"
    },
    {
     "data": {
      "image/png": "[encoded data removed]",
      "text/plain": [
       "<Figure size 720x576 with 1 Axes>"
      ]
     },
     "metadata": {
      "needs_background": "light"
     },
     "output_type": "display_data"
    }
   ],
   "source": [
    "#Plotting regression plot without outlier\n",
    "plt.figure(figsize = (10, 8))\n",
    "sns.regplot(x = 'No. of convenience stores',y = 'Price/Area', data = df_new)\n",
    "plt.title('Regression Plot between No. of convenience stores and Price/Area(Without outlier)')"
   ]
  },
  {
   "cell_type": "markdown",
   "id": "moving-wealth",
   "metadata": {},
   "source": [
    "### Null Hypothesis: There is no relationship between No. of convenience stores and Price/Area\n",
    "\n",
    "### Alternative Hypothesis: There is relationship between No. of convenience stores and Price/Are"
   ]
  },
  {
   "cell_type": "code",
   "execution_count": 33,
   "id": "foster-formula",
   "metadata": {},
   "outputs": [
    {
     "name": "stdout",
     "output_type": "stream",
     "text": [
      "Pearson Coefficient is 0.6479529669719893 and p-value is 1.3479298513165973e-44\n"
     ]
    }
   ],
   "source": [
    "#Doing significance testing using corelation\n",
    "Pearson_coeff, P_value = pearsonr(df_new['No. of convenience stores'],df_new['Price/Area'])\n",
    "\n",
    "print(f'Pearson Coefficient is {Pearson_coeff} and p-value is {P_value}')"
   ]
  },
  {
   "cell_type": "markdown",
   "id": "reported-component",
   "metadata": {},
   "source": [
    "The p-value is below 0.05 level of significance, so the null hypothesis is rejected in support of alternative hypothesis and there is a positive relationship between no. of convenient stores and price/area.\n",
    "\n",
    "## Relationship between Year and Price/Area"
   ]
  },
  {
   "cell_type": "code",
   "execution_count": 34,
   "id": "acquired-sarah",
   "metadata": {},
   "outputs": [
    {
     "data": {
      "text/plain": [
       "Text(0.5, 1.0, 'Regression Plot between No. of Year and Price/Area')"
      ]
     },
     "execution_count": 34,
     "metadata": {},
     "output_type": "execute_result"
    },
    {
     "data": {
      "image/png": "[encoded data removed]",
      "text/plain": [
       "<Figure size 432x360 with 1 Axes>"
      ]
     },
     "metadata": {
      "needs_background": "light"
     },
     "output_type": "display_data"
    }
   ],
   "source": [
    "#Plotting Boxplot plot\n",
    "plt.figure(figsize = (6, 5))\n",
    "sns.boxplot(x = 'Year',y = 'Price/Area', data = df_new)\n",
    "plt.title('Regression Plot between No. of Year and Price/Area')"
   ]
  },
  {
   "cell_type": "markdown",
   "id": "tamil-warner",
   "metadata": {},
   "source": [
    "From the above plot, it can be concluded that difference between the median values of two years are not quite different. And the boxes of two box plots overlap with each other a lot. So, it cannot be a good predictor for predicting Price/Area."
   ]
  },
  {
   "cell_type": "markdown",
   "id": "female-pension",
   "metadata": {},
   "source": [
    "### Null Hypothesis: There is no relationship between Year and Price/Area¶\n",
    "\n",
    "### Alternative Hypothesis: There is relationship between Year and Price/Area"
   ]
  },
  {
   "cell_type": "code",
   "execution_count": 35,
   "id": "incorrect-population",
   "metadata": {},
   "outputs": [
    {
     "name": "stdout",
     "output_type": "stream",
     "text": [
      "F_onewayResult(statistic=4.135171703023447, pvalue=0.0427317734039113)\n"
     ]
    }
   ],
   "source": [
    "#Importing f_oneway from scipy.stats\n",
    "from scipy.stats import f_oneway\n",
    "\n",
    "#Grouping\n",
    "df_g = df_new[['Year', 'Price/Area']].groupby('Year')\n",
    "\n",
    "#Performing ANOVA(Analysis of Variance) for significance testing of variables\n",
    "anova_results = f_oneway(df_g.get_group(2012)['Price/Area'], df_g.get_group(2013)['Price/Area'])\n",
    "\n",
    "print(anova_results)"
   ]
  },
  {
   "cell_type": "markdown",
   "id": "proved-oracle",
   "metadata": {},
   "source": [
    "According to the results of ANOVA(Analysis of Variance), the p value is smaller than 0.05 so we reject the null hypothesis in support of alternative hypothesis. The value of F-statistic is 4.135 which signifies a very weak relationship between both variables.\n",
    "\n",
    "### Conclusions and future work\n",
    "The analysis significantly shows a relationship of Distance of nearest MRT station, Age, Year, No. of convenience stores with Price/Area.\n",
    "\n",
    "The analysis can be extended by analysing the price values at different latitudes and longitudes, through spatial analysis by collecting more data.\n"
   ]
  },
  {
   "cell_type": "code",
   "execution_count": null,
   "id": "meaning-breath",
   "metadata": {},
   "outputs": [],
   "source": []
  }
 ],
 "metadata": {
  "kernelspec": {
   "display_name": "Python 3",
   "language": "python",
   "name": "python3"
  },
  "language_info": {
   "codemirror_mode": {
    "name": "ipython",
    "version": 3
   },
   "file_extension": ".py",
   "mimetype": "text/x-python",
   "name": "python",
   "nbconvert_exporter": "python",
   "pygments_lexer": "ipython3",
   "version": "3.7.8"
  }
 },
 "nbformat": 4,
 "nbformat_minor": 5
}
